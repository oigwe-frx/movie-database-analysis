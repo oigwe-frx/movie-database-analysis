{
  "nbformat": 4,
  "nbformat_minor": 0,
  "metadata": {
    "colab": {
      "provenance": [],
      "authorship_tag": "ABX9TyPIs3dUUSaKlfwAFc6p+NXK",
      "include_colab_link": true
    },
    "kernelspec": {
      "name": "python3",
      "display_name": "Python 3"
    },
    "language_info": {
      "name": "python"
    }
  },
  "cells": [
    {
      "cell_type": "markdown",
      "metadata": {
        "id": "view-in-github",
        "colab_type": "text"
      },
      "source": [
        "<a href=\"https://colab.research.google.com/github/oigwe-frx/movie-database-analysis/blob/main/Movie_Analysis.ipynb\" target=\"_parent\"><img src=\"https://colab.research.google.com/assets/colab-badge.svg\" alt=\"Open In Colab\"/></a>"
      ]
    },
    {
      "cell_type": "markdown",
      "source": [
        "\n",
        "-------------------------------------\n",
        "# **Project 1: Movie Data Analysis**\n",
        "-------------------------------------"
      ],
      "metadata": {
        "id": "R1MwlHEvjV23"
      }
    },
    {
      "cell_type": "markdown",
      "source": [
        "--------------------\n",
        "## **Context**\n",
        "--------------------\n",
        "\n",
        "  ...\n",
        "\n",
        "------------------\n",
        "## **Objective**\n",
        "------------------\n",
        "\n",
        "...\n",
        "\n",
        "-----------------------------\n",
        "## **Key Questions**\n",
        "-----------------------------\n",
        "\n",
        "...\n",
        "\n",
        "------------------------------------\n",
        "## **Dataset Description**\n",
        "------------------------------------\n",
        "\n",
        "..."
      ],
      "metadata": {
        "id": "h9VVdwA6jo7o"
      }
    },
    {
      "cell_type": "markdown",
      "source": [
        "##  **Importing the necessary libraries and overview of the dataset**"
      ],
      "metadata": {
        "id": "nraSWmw4kcxM"
      }
    },
    {
      "cell_type": "code",
      "source": [
        "# Library to suppress warnings\n",
        "import warnings\n",
        "warnings.filterwarnings('ignore')"
      ],
      "metadata": {
        "id": "gve05kGXjSr9"
      },
      "execution_count": null,
      "outputs": []
    },
    {
      "cell_type": "code",
      "execution_count": null,
      "metadata": {
        "id": "79-GjKr6iuSE"
      },
      "outputs": [],
      "source": [
        "# Libraries to help with reading and manipulating data\n",
        "import pandas as pd\n",
        "import numpy as np\n",
        "import matplotlib.pyplot as plt\n",
        "\n",
        "# Libraries to help with data visualization\n",
        "import seaborn as sns\n",
        "import matplotlib.pyplot as plt\n",
        "%matplotlib inline\n",
        "\n",
        "# Library to extract datetime features\n",
        "import datetime as dt"
      ]
    },
    {
      "cell_type": "code",
      "source": [
        "from google.colab import drive\n",
        "drive.mount('/content/drive')"
      ],
      "metadata": {
        "id": "ZhWQ6tmQkn12"
      },
      "execution_count": null,
      "outputs": []
    },
    {
      "cell_type": "markdown",
      "source": [
        "### **Loading the dataset**"
      ],
      "metadata": {
        "id": "J711SsADkte4"
      }
    },
    {
      "cell_type": "code",
      "source": [
        "data = pd.read_csv('/content/drive/...')"
      ],
      "metadata": {
        "id": "9CuZI_IbkzUl"
      },
      "execution_count": null,
      "outputs": []
    },
    {
      "cell_type": "code",
      "source": [
        "# Copying data to another variable to avoid any changes to the original data\n",
        "df = data.copy()"
      ],
      "metadata": {
        "id": "J2TDhf7Wk5j4"
      },
      "execution_count": null,
      "outputs": []
    },
    {
      "cell_type": "markdown",
      "source": [
        "### **View the first 5 rows of the dataset**"
      ],
      "metadata": {
        "id": "qbYLSxBqlAH4"
      }
    },
    {
      "cell_type": "code",
      "source": [
        "# Looking at head (the first 5 observations)\n",
        "df.head()"
      ],
      "metadata": {
        "id": "3NxsFG85lK4s"
      },
      "execution_count": null,
      "outputs": []
    },
    {
      "cell_type": "markdown",
      "source": [
        "**Observations:**\n",
        "\n",
        "* ..."
      ],
      "metadata": {
        "id": "6PjOSYqblQar"
      }
    },
    {
      "cell_type": "markdown",
      "source": [
        "### **View the last 5 rows of the dataset**"
      ],
      "metadata": {
        "id": "ds2nsrY3lAba"
      }
    },
    {
      "cell_type": "code",
      "source": [
        "# Looking at tail (the last 5 observations)\n",
        "df.tail()"
      ],
      "metadata": {
        "id": "5mhI70iDlduq"
      },
      "execution_count": null,
      "outputs": []
    }
  ]
}