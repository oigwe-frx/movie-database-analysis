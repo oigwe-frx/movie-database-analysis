{
  "nbformat": 4,
  "nbformat_minor": 0,
  "metadata": {
    "colab": {
      "provenance": [],
      "authorship_tag": "ABX9TyOCqKnTa/4BpsphCFuyfAaS",
      "include_colab_link": true
    },
    "kernelspec": {
      "name": "python3",
      "display_name": "Python 3"
    },
    "language_info": {
      "name": "python"
    }
  },
  "cells": [
    {
      "cell_type": "markdown",
      "metadata": {
        "id": "view-in-github",
        "colab_type": "text"
      },
      "source": [
        "<a href=\"https://colab.research.google.com/github/oigwe-frx/movie-database-analysis/blob/create-dummy-branch/Movie_Analysis.ipynb\" target=\"_parent\"><img src=\"https://colab.research.google.com/assets/colab-badge.svg\" alt=\"Open In Colab\"/></a>"
      ]
    },
    {
      "cell_type": "markdown",
      "source": [
        "\n",
        "-------------------------------------\n",
        "# **Project 1: Movie Data Analysis**\n",
        "-------------------------------------"
      ],
      "metadata": {
        "id": "R1MwlHEvjV23"
      }
    },
    {
      "cell_type": "markdown",
      "source": [
        "--------------------\n",
        "## **Context**\n",
        "--------------------\n",
        "\n",
        "In an era marked by the convergence of technology and entertainment, the film industry is a pillar of global cultural dissemination and economic vitality. Understanding the intricate factors influencing a movie's commercial success is paramount within this dynamic landscape. Leveraging data from the Internet Movie Database (IMDb), this project aims to delve into the multifaceted realm of box office hits, dissecting the variables that potentially shape their triumph or demise.\n",
        "\n",
        "The cinematic ecosystem is a tapestry woven with diverse elements, ranging from star power and production budget to genre and critical reception. Against this backdrop, the analysis endeavors to discern patterns and correlations within the data, unraveling the enigmatic interplay between various attributes and a movie's financial performance.\n",
        "\n",
        "As the digital era reshapes audience preferences and consumption patterns, traditional metrics of success undergo a metamorphosis. Thus, this investigation seeks to illuminate established paradigms and explore emerging trends and disruptions catalyzed by technological advancements and shifting audience dynamics.\n",
        "\n",
        "By scrutinizing the data with a meticulous eye and employing sophisticated analytical methodologies, this project endeavors to offer insights that transcend conventional wisdom, providing stakeholders within the film industry with actionable intelligence to navigate an ever-evolving landscape and maximize their chances of crafting cinematic endeavors that resonate with audiences and thrive at the box office.\n",
        "\n",
        "------------------\n",
        "## **Objective**\n",
        "------------------\n",
        "\n",
        "This data analysis and visualization project aims to investigate and identify critical attributes influencing the commercial success of movies. Leveraging data sourced from IMDb, the project aims to uncover patterns and correlations between various factors and a movie's box office performance. Through meticulous analysis and visualization techniques, the project seeks to provide actionable insights to stakeholders in the film industry, enabling them to make informed decisions to enhance the financial viability of their cinematic endeavors.\n",
        "\n",
        "-----------------------------\n",
        "## **General Key Questions**\n",
        "-----------------------------\n",
        "\n",
        "- What is the dataset source for the visualization project, and how reliable and comprehensive is it?\n",
        "\n",
        "- How can data be cleaned and prepared for visualization to ensure accuracy and consistency?\n",
        "\n",
        "- What visualization techniques are most suitable for representing different data types and revealing insights?\n",
        "\n",
        "- How should the visualizations be designed to cater to the target audience and convey information efficiently?\n",
        "\n",
        "- Can any specific trends or patterns in the data be uncovered through visualization?\n",
        "\n",
        "- Can the visualization techniques be applied to different datasets and domains beyond the current project?\n",
        "\n",
        "- How can user feedback and iterative design processes be integrated to improve the effectiveness of the visualizations continuously?\n",
        "\n",
        "-----------------------------\n",
        "## **Data Specific Key Questions**\n",
        "-----------------------------\n",
        "*   What are the most popular movies?\n",
        "  *   Determine the top-rated or most popular titles based on IMDb ratings or user reviews.\n",
        "      \n",
        "* What are the trends in movie genres over time?\n",
        "    * Analyze how the popularity of different genres has evolved over the years.\n",
        "      \n",
        "* Which actors have appeared in the most movies?\n",
        "    * Identify prolific actors and actresses in the IMDb database.\n",
        "      \n",
        "* What are the highest-grossing movies of all time?\n",
        "    * Investigate box office revenue data to find the most financially successful films.\n",
        "      \n",
        "* Are there any correlations between movie budgets and box office performance?\n",
        "    * Explore whether higher budgets lead to higher box office earnings.\n",
        "      \n",
        "* What is the distribution of movie ratings on IMDb?\n",
        "    * Analyze the distribution of IMDb ratings to understand audience preferences.\n",
        "            \n",
        "* What is the average movie runtime?\n",
        "    * Calculate the average duration of movies and see if there are any trends over time.\n",
        "      \n",
        "* Who are the top-rated directors?\n",
        "    * Identify directors with the highest-rated movies in the database.     \n",
        "      \n",
        "* Are there any geographical trends in movie preferences?\n",
        "    * Explore whether movie preferences vary by region or country.\n",
        "      \n",
        "* How has the film industry evolved over the years?\n",
        "    * Look at historical data to understand film production, technology, and distribution changes.\n",
        "      \n",
        "* What are the most influential factors for IMDb ratings?\n",
        "    * Analyze which factors, genre, director, or cast impact ratings are most important.\n",
        "\n",
        "* Are there any outliers or anomalies in the data?\n",
        "    * Look for unusual or unexpected patterns in the data that may require further investigation.\n",
        "\n",
        "------------------------------------\n",
        "## **Dataset Description**\n",
        "------------------------------------\n",
        "\n",
        "### Data Description\n",
        "\n",
        "The data contains data related to a films, as compiled by the Internet Movie Database (IMDb). The detailed data dictionary is given below.\n",
        "\n",
        "### Data Dictionary\n",
        "\n",
        "* names: movie name\n",
        "* date_x: release date\n",
        "* score: user rating\n",
        "* genre: genre of the movie\n",
        "* overview: a summary of the movie's plot\n",
        "* crew: crew members\n",
        "* orig_title: the original title of the movie\n",
        "* status: release status\n",
        "* orig_lang: originally released in this language\n",
        "* budget_x: movie budget\n",
        "* revenue: revenue generated worldwide\n",
        "* country: release country"
      ],
      "metadata": {
        "id": "h9VVdwA6jo7o"
      }
    },
    {
      "cell_type": "markdown",
      "source": [
        "##  **Importing the necessary libraries and overview of the dataset**"
      ],
      "metadata": {
        "id": "nraSWmw4kcxM"
      }
    },
    {
      "cell_type": "code",
      "source": [
        "# Library to suppress warnings\n",
        "import warnings\n",
        "warnings.filterwarnings('ignore')"
      ],
      "metadata": {
        "id": "gve05kGXjSr9"
      },
      "execution_count": null,
      "outputs": []
    },
    {
      "cell_type": "code",
      "execution_count": null,
      "metadata": {
        "id": "79-GjKr6iuSE"
      },
      "outputs": [],
      "source": [
        "# Libraries to help with reading and manipulating data\n",
        "import pandas as pd\n",
        "import numpy as np\n",
        "import matplotlib.pyplot as plt\n",
        "\n",
        "# Libraries to help with data visualization\n",
        "import seaborn as sns\n",
        "import matplotlib.pyplot as plt\n",
        "%matplotlib inline\n",
        "\n",
        "# Library to extract datetime features\n",
        "import datetime as dt"
      ]
    },
    {
      "cell_type": "markdown",
      "source": [
        "### **Loading the dataset**"
      ],
      "metadata": {
        "id": "J711SsADkte4"
      }
    },
    {
      "cell_type": "code",
      "source": [
        "data = pd.read_csv('/content/imdb_movies.csv')"
      ],
      "metadata": {
        "id": "9CuZI_IbkzUl"
      },
      "execution_count": null,
      "outputs": []
    },
    {
      "cell_type": "code",
      "source": [
        "# Copying data to another variable to avoid any changes to the original data\n",
        "df = data.copy()"
      ],
      "metadata": {
        "id": "J2TDhf7Wk5j4"
      },
      "execution_count": null,
      "outputs": []
    },
    {
      "cell_type": "markdown",
      "source": [
        "### **View the first 5 rows of the dataset**"
      ],
      "metadata": {
        "id": "qbYLSxBqlAH4"
      }
    },
    {
      "cell_type": "code",
      "source": [
        "# Looking at head (the first 5 observations)\n",
        "df.head()"
      ],
      "metadata": {
        "id": "3NxsFG85lK4s",
        "colab": {
          "base_uri": "https://localhost:8080/",
          "height": 625
        },
        "outputId": "6529ef3c-0219-40c0-af1b-0fcb974eabe2"
      },
      "execution_count": null,
      "outputs": [
        {
          "output_type": "execute_result",
          "data": {
            "text/plain": [
              "                         names       date_x  score  \\\n",
              "0                    Creed III  03/02/2023    73.0   \n",
              "1     Avatar: The Way of Water  12/15/2022    78.0   \n",
              "2  The Super Mario Bros. Movie  04/05/2023    76.0   \n",
              "3                      Mummies  01/05/2023    70.0   \n",
              "4                    Supercell  03/17/2023    61.0   \n",
              "\n",
              "                                           genre  \\\n",
              "0                                  Drama, Action   \n",
              "1             Science Fiction, Adventure, Action   \n",
              "2  Animation, Adventure, Family, Fantasy, Comedy   \n",
              "3  Animation, Comedy, Family, Adventure, Fantasy   \n",
              "4                                         Action   \n",
              "\n",
              "                                            overview  \\\n",
              "0  After dominating the boxing world, Adonis Cree...   \n",
              "1  Set more than a decade after the events of the...   \n",
              "2  While working underground to fix a water main,...   \n",
              "3  Through a series of unfortunate events, three ...   \n",
              "4  Good-hearted teenager William always lived in ...   \n",
              "\n",
              "                                                crew  \\\n",
              "0  Michael B. Jordan, Adonis Creed, Tessa Thompso...   \n",
              "1  Sam Worthington, Jake Sully, Zoe Saldaña, Neyt...   \n",
              "2  Chris Pratt, Mario (voice), Anya Taylor-Joy, P...   \n",
              "3  Óscar Barberán, Thut (voice), Ana Esther Albor...   \n",
              "4  Skeet Ulrich, Roy Cameron, Anne Heche, Dr Quin...   \n",
              "\n",
              "                    orig_title     status            orig_lang     budget_x  \\\n",
              "0                    Creed III   Released              English   75000000.0   \n",
              "1     Avatar: The Way of Water   Released              English  460000000.0   \n",
              "2  The Super Mario Bros. Movie   Released              English  100000000.0   \n",
              "3                       Momias   Released   Spanish, Castilian   12300000.0   \n",
              "4                    Supercell   Released              English   77000000.0   \n",
              "\n",
              "        revenue country  \n",
              "0  2.716167e+08      AU  \n",
              "1  2.316795e+09      AU  \n",
              "2  7.244590e+08      AU  \n",
              "3  3.420000e+07      AU  \n",
              "4  3.409420e+08      US  "
            ],
            "text/html": [
              "\n",
              "  <div id=\"df-8d04bc9d-5073-4502-88d5-f7e00bbb272e\" class=\"colab-df-container\">\n",
              "    <div>\n",
              "<style scoped>\n",
              "    .dataframe tbody tr th:only-of-type {\n",
              "        vertical-align: middle;\n",
              "    }\n",
              "\n",
              "    .dataframe tbody tr th {\n",
              "        vertical-align: top;\n",
              "    }\n",
              "\n",
              "    .dataframe thead th {\n",
              "        text-align: right;\n",
              "    }\n",
              "</style>\n",
              "<table border=\"1\" class=\"dataframe\">\n",
              "  <thead>\n",
              "    <tr style=\"text-align: right;\">\n",
              "      <th></th>\n",
              "      <th>names</th>\n",
              "      <th>date_x</th>\n",
              "      <th>score</th>\n",
              "      <th>genre</th>\n",
              "      <th>overview</th>\n",
              "      <th>crew</th>\n",
              "      <th>orig_title</th>\n",
              "      <th>status</th>\n",
              "      <th>orig_lang</th>\n",
              "      <th>budget_x</th>\n",
              "      <th>revenue</th>\n",
              "      <th>country</th>\n",
              "    </tr>\n",
              "  </thead>\n",
              "  <tbody>\n",
              "    <tr>\n",
              "      <th>0</th>\n",
              "      <td>Creed III</td>\n",
              "      <td>03/02/2023</td>\n",
              "      <td>73.0</td>\n",
              "      <td>Drama, Action</td>\n",
              "      <td>After dominating the boxing world, Adonis Cree...</td>\n",
              "      <td>Michael B. Jordan, Adonis Creed, Tessa Thompso...</td>\n",
              "      <td>Creed III</td>\n",
              "      <td>Released</td>\n",
              "      <td>English</td>\n",
              "      <td>75000000.0</td>\n",
              "      <td>2.716167e+08</td>\n",
              "      <td>AU</td>\n",
              "    </tr>\n",
              "    <tr>\n",
              "      <th>1</th>\n",
              "      <td>Avatar: The Way of Water</td>\n",
              "      <td>12/15/2022</td>\n",
              "      <td>78.0</td>\n",
              "      <td>Science Fiction, Adventure, Action</td>\n",
              "      <td>Set more than a decade after the events of the...</td>\n",
              "      <td>Sam Worthington, Jake Sully, Zoe Saldaña, Neyt...</td>\n",
              "      <td>Avatar: The Way of Water</td>\n",
              "      <td>Released</td>\n",
              "      <td>English</td>\n",
              "      <td>460000000.0</td>\n",
              "      <td>2.316795e+09</td>\n",
              "      <td>AU</td>\n",
              "    </tr>\n",
              "    <tr>\n",
              "      <th>2</th>\n",
              "      <td>The Super Mario Bros. Movie</td>\n",
              "      <td>04/05/2023</td>\n",
              "      <td>76.0</td>\n",
              "      <td>Animation, Adventure, Family, Fantasy, Comedy</td>\n",
              "      <td>While working underground to fix a water main,...</td>\n",
              "      <td>Chris Pratt, Mario (voice), Anya Taylor-Joy, P...</td>\n",
              "      <td>The Super Mario Bros. Movie</td>\n",
              "      <td>Released</td>\n",
              "      <td>English</td>\n",
              "      <td>100000000.0</td>\n",
              "      <td>7.244590e+08</td>\n",
              "      <td>AU</td>\n",
              "    </tr>\n",
              "    <tr>\n",
              "      <th>3</th>\n",
              "      <td>Mummies</td>\n",
              "      <td>01/05/2023</td>\n",
              "      <td>70.0</td>\n",
              "      <td>Animation, Comedy, Family, Adventure, Fantasy</td>\n",
              "      <td>Through a series of unfortunate events, three ...</td>\n",
              "      <td>Óscar Barberán, Thut (voice), Ana Esther Albor...</td>\n",
              "      <td>Momias</td>\n",
              "      <td>Released</td>\n",
              "      <td>Spanish, Castilian</td>\n",
              "      <td>12300000.0</td>\n",
              "      <td>3.420000e+07</td>\n",
              "      <td>AU</td>\n",
              "    </tr>\n",
              "    <tr>\n",
              "      <th>4</th>\n",
              "      <td>Supercell</td>\n",
              "      <td>03/17/2023</td>\n",
              "      <td>61.0</td>\n",
              "      <td>Action</td>\n",
              "      <td>Good-hearted teenager William always lived in ...</td>\n",
              "      <td>Skeet Ulrich, Roy Cameron, Anne Heche, Dr Quin...</td>\n",
              "      <td>Supercell</td>\n",
              "      <td>Released</td>\n",
              "      <td>English</td>\n",
              "      <td>77000000.0</td>\n",
              "      <td>3.409420e+08</td>\n",
              "      <td>US</td>\n",
              "    </tr>\n",
              "  </tbody>\n",
              "</table>\n",
              "</div>\n",
              "    <div class=\"colab-df-buttons\">\n",
              "\n",
              "  <div class=\"colab-df-container\">\n",
              "    <button class=\"colab-df-convert\" onclick=\"convertToInteractive('df-8d04bc9d-5073-4502-88d5-f7e00bbb272e')\"\n",
              "            title=\"Convert this dataframe to an interactive table.\"\n",
              "            style=\"display:none;\">\n",
              "\n",
              "  <svg xmlns=\"http://www.w3.org/2000/svg\" height=\"24px\" viewBox=\"0 -960 960 960\">\n",
              "    <path d=\"M120-120v-720h720v720H120Zm60-500h600v-160H180v160Zm220 220h160v-160H400v160Zm0 220h160v-160H400v160ZM180-400h160v-160H180v160Zm440 0h160v-160H620v160ZM180-180h160v-160H180v160Zm440 0h160v-160H620v160Z\"/>\n",
              "  </svg>\n",
              "    </button>\n",
              "\n",
              "  <style>\n",
              "    .colab-df-container {\n",
              "      display:flex;\n",
              "      gap: 12px;\n",
              "    }\n",
              "\n",
              "    .colab-df-convert {\n",
              "      background-color: #E8F0FE;\n",
              "      border: none;\n",
              "      border-radius: 50%;\n",
              "      cursor: pointer;\n",
              "      display: none;\n",
              "      fill: #1967D2;\n",
              "      height: 32px;\n",
              "      padding: 0 0 0 0;\n",
              "      width: 32px;\n",
              "    }\n",
              "\n",
              "    .colab-df-convert:hover {\n",
              "      background-color: #E2EBFA;\n",
              "      box-shadow: 0px 1px 2px rgba(60, 64, 67, 0.3), 0px 1px 3px 1px rgba(60, 64, 67, 0.15);\n",
              "      fill: #174EA6;\n",
              "    }\n",
              "\n",
              "    .colab-df-buttons div {\n",
              "      margin-bottom: 4px;\n",
              "    }\n",
              "\n",
              "    [theme=dark] .colab-df-convert {\n",
              "      background-color: #3B4455;\n",
              "      fill: #D2E3FC;\n",
              "    }\n",
              "\n",
              "    [theme=dark] .colab-df-convert:hover {\n",
              "      background-color: #434B5C;\n",
              "      box-shadow: 0px 1px 3px 1px rgba(0, 0, 0, 0.15);\n",
              "      filter: drop-shadow(0px 1px 2px rgba(0, 0, 0, 0.3));\n",
              "      fill: #FFFFFF;\n",
              "    }\n",
              "  </style>\n",
              "\n",
              "    <script>\n",
              "      const buttonEl =\n",
              "        document.querySelector('#df-8d04bc9d-5073-4502-88d5-f7e00bbb272e button.colab-df-convert');\n",
              "      buttonEl.style.display =\n",
              "        google.colab.kernel.accessAllowed ? 'block' : 'none';\n",
              "\n",
              "      async function convertToInteractive(key) {\n",
              "        const element = document.querySelector('#df-8d04bc9d-5073-4502-88d5-f7e00bbb272e');\n",
              "        const dataTable =\n",
              "          await google.colab.kernel.invokeFunction('convertToInteractive',\n",
              "                                                    [key], {});\n",
              "        if (!dataTable) return;\n",
              "\n",
              "        const docLinkHtml = 'Like what you see? Visit the ' +\n",
              "          '<a target=\"_blank\" href=https://colab.research.google.com/notebooks/data_table.ipynb>data table notebook</a>'\n",
              "          + ' to learn more about interactive tables.';\n",
              "        element.innerHTML = '';\n",
              "        dataTable['output_type'] = 'display_data';\n",
              "        await google.colab.output.renderOutput(dataTable, element);\n",
              "        const docLink = document.createElement('div');\n",
              "        docLink.innerHTML = docLinkHtml;\n",
              "        element.appendChild(docLink);\n",
              "      }\n",
              "    </script>\n",
              "  </div>\n",
              "\n",
              "\n",
              "<div id=\"df-4d8259de-0b35-4398-91c8-20d959860b05\">\n",
              "  <button class=\"colab-df-quickchart\" onclick=\"quickchart('df-4d8259de-0b35-4398-91c8-20d959860b05')\"\n",
              "            title=\"Suggest charts\"\n",
              "            style=\"display:none;\">\n",
              "\n",
              "<svg xmlns=\"http://www.w3.org/2000/svg\" height=\"24px\"viewBox=\"0 0 24 24\"\n",
              "     width=\"24px\">\n",
              "    <g>\n",
              "        <path d=\"M19 3H5c-1.1 0-2 .9-2 2v14c0 1.1.9 2 2 2h14c1.1 0 2-.9 2-2V5c0-1.1-.9-2-2-2zM9 17H7v-7h2v7zm4 0h-2V7h2v10zm4 0h-2v-4h2v4z\"/>\n",
              "    </g>\n",
              "</svg>\n",
              "  </button>\n",
              "\n",
              "<style>\n",
              "  .colab-df-quickchart {\n",
              "      --bg-color: #E8F0FE;\n",
              "      --fill-color: #1967D2;\n",
              "      --hover-bg-color: #E2EBFA;\n",
              "      --hover-fill-color: #174EA6;\n",
              "      --disabled-fill-color: #AAA;\n",
              "      --disabled-bg-color: #DDD;\n",
              "  }\n",
              "\n",
              "  [theme=dark] .colab-df-quickchart {\n",
              "      --bg-color: #3B4455;\n",
              "      --fill-color: #D2E3FC;\n",
              "      --hover-bg-color: #434B5C;\n",
              "      --hover-fill-color: #FFFFFF;\n",
              "      --disabled-bg-color: #3B4455;\n",
              "      --disabled-fill-color: #666;\n",
              "  }\n",
              "\n",
              "  .colab-df-quickchart {\n",
              "    background-color: var(--bg-color);\n",
              "    border: none;\n",
              "    border-radius: 50%;\n",
              "    cursor: pointer;\n",
              "    display: none;\n",
              "    fill: var(--fill-color);\n",
              "    height: 32px;\n",
              "    padding: 0;\n",
              "    width: 32px;\n",
              "  }\n",
              "\n",
              "  .colab-df-quickchart:hover {\n",
              "    background-color: var(--hover-bg-color);\n",
              "    box-shadow: 0 1px 2px rgba(60, 64, 67, 0.3), 0 1px 3px 1px rgba(60, 64, 67, 0.15);\n",
              "    fill: var(--button-hover-fill-color);\n",
              "  }\n",
              "\n",
              "  .colab-df-quickchart-complete:disabled,\n",
              "  .colab-df-quickchart-complete:disabled:hover {\n",
              "    background-color: var(--disabled-bg-color);\n",
              "    fill: var(--disabled-fill-color);\n",
              "    box-shadow: none;\n",
              "  }\n",
              "\n",
              "  .colab-df-spinner {\n",
              "    border: 2px solid var(--fill-color);\n",
              "    border-color: transparent;\n",
              "    border-bottom-color: var(--fill-color);\n",
              "    animation:\n",
              "      spin 1s steps(1) infinite;\n",
              "  }\n",
              "\n",
              "  @keyframes spin {\n",
              "    0% {\n",
              "      border-color: transparent;\n",
              "      border-bottom-color: var(--fill-color);\n",
              "      border-left-color: var(--fill-color);\n",
              "    }\n",
              "    20% {\n",
              "      border-color: transparent;\n",
              "      border-left-color: var(--fill-color);\n",
              "      border-top-color: var(--fill-color);\n",
              "    }\n",
              "    30% {\n",
              "      border-color: transparent;\n",
              "      border-left-color: var(--fill-color);\n",
              "      border-top-color: var(--fill-color);\n",
              "      border-right-color: var(--fill-color);\n",
              "    }\n",
              "    40% {\n",
              "      border-color: transparent;\n",
              "      border-right-color: var(--fill-color);\n",
              "      border-top-color: var(--fill-color);\n",
              "    }\n",
              "    60% {\n",
              "      border-color: transparent;\n",
              "      border-right-color: var(--fill-color);\n",
              "    }\n",
              "    80% {\n",
              "      border-color: transparent;\n",
              "      border-right-color: var(--fill-color);\n",
              "      border-bottom-color: var(--fill-color);\n",
              "    }\n",
              "    90% {\n",
              "      border-color: transparent;\n",
              "      border-bottom-color: var(--fill-color);\n",
              "    }\n",
              "  }\n",
              "</style>\n",
              "\n",
              "  <script>\n",
              "    async function quickchart(key) {\n",
              "      const quickchartButtonEl =\n",
              "        document.querySelector('#' + key + ' button');\n",
              "      quickchartButtonEl.disabled = true;  // To prevent multiple clicks.\n",
              "      quickchartButtonEl.classList.add('colab-df-spinner');\n",
              "      try {\n",
              "        const charts = await google.colab.kernel.invokeFunction(\n",
              "            'suggestCharts', [key], {});\n",
              "      } catch (error) {\n",
              "        console.error('Error during call to suggestCharts:', error);\n",
              "      }\n",
              "      quickchartButtonEl.classList.remove('colab-df-spinner');\n",
              "      quickchartButtonEl.classList.add('colab-df-quickchart-complete');\n",
              "    }\n",
              "    (() => {\n",
              "      let quickchartButtonEl =\n",
              "        document.querySelector('#df-4d8259de-0b35-4398-91c8-20d959860b05 button');\n",
              "      quickchartButtonEl.style.display =\n",
              "        google.colab.kernel.accessAllowed ? 'block' : 'none';\n",
              "    })();\n",
              "  </script>\n",
              "</div>\n",
              "\n",
              "    </div>\n",
              "  </div>\n"
            ]
          },
          "metadata": {},
          "execution_count": 7
        }
      ]
    },
    {
      "cell_type": "markdown",
      "source": [
        "**Observations:**\n",
        "\n",
        "* ..."
      ],
      "metadata": {
        "id": "6PjOSYqblQar"
      }
    },
    {
      "cell_type": "markdown",
      "source": [
        "### **View the last 5 rows of the dataset**"
      ],
      "metadata": {
        "id": "ds2nsrY3lAba"
      }
    },
    {
      "cell_type": "code",
      "source": [
        "# Looking at tail (the last 5 observations)\n",
        "df.tail()"
      ],
      "metadata": {
        "id": "5mhI70iDlduq",
        "colab": {
          "base_uri": "https://localhost:8080/",
          "height": 623
        },
        "outputId": "096ca390-d5e7-418b-a9a8-10d9bd80f4fe"
      },
      "execution_count": null,
      "outputs": [
        {
          "output_type": "execute_result",
          "data": {
            "text/plain": [
              "                                         names       date_x  score  \\\n",
              "10173                       20th Century Women  12/28/2016    73.0   \n",
              "10174  Delta Force 2: The Colombian Connection  08/24/1990    54.0   \n",
              "10175                         The Russia House  12/21/1990    61.0   \n",
              "10176         Darkman II: The Return of Durant  07/11/1995    55.0   \n",
              "10177       The Swan Princess: A Royal Wedding  07/20/2020    70.0   \n",
              "\n",
              "                                                   genre  \\\n",
              "10173                                              Drama   \n",
              "10174                                             Action   \n",
              "10175                           Drama, Thriller, Romance   \n",
              "10176  Action, Adventure, Science Fiction, Thriller, ...   \n",
              "10177                         Animation, Family, Fantasy   \n",
              "\n",
              "                                                overview  \\\n",
              "10173  In 1979 Santa Barbara, California, Dorothea Fi...   \n",
              "10174  When DEA agents are taken captive by a ruthles...   \n",
              "10175  Barley Scott Blair, a Lisbon-based editor of R...   \n",
              "10176  Darkman and Durant return and they hate each o...   \n",
              "10177  Princess Odette and Prince Derek are going to ...   \n",
              "\n",
              "                                                    crew  \\\n",
              "10173  Annette Bening, Dorothea Fields, Lucas Jade Zu...   \n",
              "10174  Chuck Norris, Col. Scott McCoy, Billy Drago, R...   \n",
              "10175  Sean Connery, Bartholomew 'Barley' Scott Blair...   \n",
              "10176  Larry Drake, Robert G. Durant, Arnold Vosloo, ...   \n",
              "10177  Nina Herzog, Princess Odette (voice), Yuri Low...   \n",
              "\n",
              "                                    orig_title     status orig_lang  \\\n",
              "10173                       20th Century Women   Released   English   \n",
              "10174  Delta Force 2: The Colombian Connection   Released   English   \n",
              "10175                         The Russia House   Released   English   \n",
              "10176         Darkman II: The Return of Durant   Released   English   \n",
              "10177       The Swan Princess: A Royal Wedding   Released   English   \n",
              "\n",
              "          budget_x      revenue country  \n",
              "10173    7000000.0    9353729.0      US  \n",
              "10174    9145817.8    6698361.0      US  \n",
              "10175   21800000.0   22997992.0      US  \n",
              "10176  116000000.0  475661306.0      US  \n",
              "10177   92400000.0  539401838.6      GB  "
            ],
            "text/html": [
              "\n",
              "  <div id=\"df-9f81dc5a-7918-42bf-8a11-d9602ce48c3c\" class=\"colab-df-container\">\n",
              "    <div>\n",
              "<style scoped>\n",
              "    .dataframe tbody tr th:only-of-type {\n",
              "        vertical-align: middle;\n",
              "    }\n",
              "\n",
              "    .dataframe tbody tr th {\n",
              "        vertical-align: top;\n",
              "    }\n",
              "\n",
              "    .dataframe thead th {\n",
              "        text-align: right;\n",
              "    }\n",
              "</style>\n",
              "<table border=\"1\" class=\"dataframe\">\n",
              "  <thead>\n",
              "    <tr style=\"text-align: right;\">\n",
              "      <th></th>\n",
              "      <th>names</th>\n",
              "      <th>date_x</th>\n",
              "      <th>score</th>\n",
              "      <th>genre</th>\n",
              "      <th>overview</th>\n",
              "      <th>crew</th>\n",
              "      <th>orig_title</th>\n",
              "      <th>status</th>\n",
              "      <th>orig_lang</th>\n",
              "      <th>budget_x</th>\n",
              "      <th>revenue</th>\n",
              "      <th>country</th>\n",
              "    </tr>\n",
              "  </thead>\n",
              "  <tbody>\n",
              "    <tr>\n",
              "      <th>10173</th>\n",
              "      <td>20th Century Women</td>\n",
              "      <td>12/28/2016</td>\n",
              "      <td>73.0</td>\n",
              "      <td>Drama</td>\n",
              "      <td>In 1979 Santa Barbara, California, Dorothea Fi...</td>\n",
              "      <td>Annette Bening, Dorothea Fields, Lucas Jade Zu...</td>\n",
              "      <td>20th Century Women</td>\n",
              "      <td>Released</td>\n",
              "      <td>English</td>\n",
              "      <td>7000000.0</td>\n",
              "      <td>9353729.0</td>\n",
              "      <td>US</td>\n",
              "    </tr>\n",
              "    <tr>\n",
              "      <th>10174</th>\n",
              "      <td>Delta Force 2: The Colombian Connection</td>\n",
              "      <td>08/24/1990</td>\n",
              "      <td>54.0</td>\n",
              "      <td>Action</td>\n",
              "      <td>When DEA agents are taken captive by a ruthles...</td>\n",
              "      <td>Chuck Norris, Col. Scott McCoy, Billy Drago, R...</td>\n",
              "      <td>Delta Force 2: The Colombian Connection</td>\n",
              "      <td>Released</td>\n",
              "      <td>English</td>\n",
              "      <td>9145817.8</td>\n",
              "      <td>6698361.0</td>\n",
              "      <td>US</td>\n",
              "    </tr>\n",
              "    <tr>\n",
              "      <th>10175</th>\n",
              "      <td>The Russia House</td>\n",
              "      <td>12/21/1990</td>\n",
              "      <td>61.0</td>\n",
              "      <td>Drama, Thriller, Romance</td>\n",
              "      <td>Barley Scott Blair, a Lisbon-based editor of R...</td>\n",
              "      <td>Sean Connery, Bartholomew 'Barley' Scott Blair...</td>\n",
              "      <td>The Russia House</td>\n",
              "      <td>Released</td>\n",
              "      <td>English</td>\n",
              "      <td>21800000.0</td>\n",
              "      <td>22997992.0</td>\n",
              "      <td>US</td>\n",
              "    </tr>\n",
              "    <tr>\n",
              "      <th>10176</th>\n",
              "      <td>Darkman II: The Return of Durant</td>\n",
              "      <td>07/11/1995</td>\n",
              "      <td>55.0</td>\n",
              "      <td>Action, Adventure, Science Fiction, Thriller, ...</td>\n",
              "      <td>Darkman and Durant return and they hate each o...</td>\n",
              "      <td>Larry Drake, Robert G. Durant, Arnold Vosloo, ...</td>\n",
              "      <td>Darkman II: The Return of Durant</td>\n",
              "      <td>Released</td>\n",
              "      <td>English</td>\n",
              "      <td>116000000.0</td>\n",
              "      <td>475661306.0</td>\n",
              "      <td>US</td>\n",
              "    </tr>\n",
              "    <tr>\n",
              "      <th>10177</th>\n",
              "      <td>The Swan Princess: A Royal Wedding</td>\n",
              "      <td>07/20/2020</td>\n",
              "      <td>70.0</td>\n",
              "      <td>Animation, Family, Fantasy</td>\n",
              "      <td>Princess Odette and Prince Derek are going to ...</td>\n",
              "      <td>Nina Herzog, Princess Odette (voice), Yuri Low...</td>\n",
              "      <td>The Swan Princess: A Royal Wedding</td>\n",
              "      <td>Released</td>\n",
              "      <td>English</td>\n",
              "      <td>92400000.0</td>\n",
              "      <td>539401838.6</td>\n",
              "      <td>GB</td>\n",
              "    </tr>\n",
              "  </tbody>\n",
              "</table>\n",
              "</div>\n",
              "    <div class=\"colab-df-buttons\">\n",
              "\n",
              "  <div class=\"colab-df-container\">\n",
              "    <button class=\"colab-df-convert\" onclick=\"convertToInteractive('df-9f81dc5a-7918-42bf-8a11-d9602ce48c3c')\"\n",
              "            title=\"Convert this dataframe to an interactive table.\"\n",
              "            style=\"display:none;\">\n",
              "\n",
              "  <svg xmlns=\"http://www.w3.org/2000/svg\" height=\"24px\" viewBox=\"0 -960 960 960\">\n",
              "    <path d=\"M120-120v-720h720v720H120Zm60-500h600v-160H180v160Zm220 220h160v-160H400v160Zm0 220h160v-160H400v160ZM180-400h160v-160H180v160Zm440 0h160v-160H620v160ZM180-180h160v-160H180v160Zm440 0h160v-160H620v160Z\"/>\n",
              "  </svg>\n",
              "    </button>\n",
              "\n",
              "  <style>\n",
              "    .colab-df-container {\n",
              "      display:flex;\n",
              "      gap: 12px;\n",
              "    }\n",
              "\n",
              "    .colab-df-convert {\n",
              "      background-color: #E8F0FE;\n",
              "      border: none;\n",
              "      border-radius: 50%;\n",
              "      cursor: pointer;\n",
              "      display: none;\n",
              "      fill: #1967D2;\n",
              "      height: 32px;\n",
              "      padding: 0 0 0 0;\n",
              "      width: 32px;\n",
              "    }\n",
              "\n",
              "    .colab-df-convert:hover {\n",
              "      background-color: #E2EBFA;\n",
              "      box-shadow: 0px 1px 2px rgba(60, 64, 67, 0.3), 0px 1px 3px 1px rgba(60, 64, 67, 0.15);\n",
              "      fill: #174EA6;\n",
              "    }\n",
              "\n",
              "    .colab-df-buttons div {\n",
              "      margin-bottom: 4px;\n",
              "    }\n",
              "\n",
              "    [theme=dark] .colab-df-convert {\n",
              "      background-color: #3B4455;\n",
              "      fill: #D2E3FC;\n",
              "    }\n",
              "\n",
              "    [theme=dark] .colab-df-convert:hover {\n",
              "      background-color: #434B5C;\n",
              "      box-shadow: 0px 1px 3px 1px rgba(0, 0, 0, 0.15);\n",
              "      filter: drop-shadow(0px 1px 2px rgba(0, 0, 0, 0.3));\n",
              "      fill: #FFFFFF;\n",
              "    }\n",
              "  </style>\n",
              "\n",
              "    <script>\n",
              "      const buttonEl =\n",
              "        document.querySelector('#df-9f81dc5a-7918-42bf-8a11-d9602ce48c3c button.colab-df-convert');\n",
              "      buttonEl.style.display =\n",
              "        google.colab.kernel.accessAllowed ? 'block' : 'none';\n",
              "\n",
              "      async function convertToInteractive(key) {\n",
              "        const element = document.querySelector('#df-9f81dc5a-7918-42bf-8a11-d9602ce48c3c');\n",
              "        const dataTable =\n",
              "          await google.colab.kernel.invokeFunction('convertToInteractive',\n",
              "                                                    [key], {});\n",
              "        if (!dataTable) return;\n",
              "\n",
              "        const docLinkHtml = 'Like what you see? Visit the ' +\n",
              "          '<a target=\"_blank\" href=https://colab.research.google.com/notebooks/data_table.ipynb>data table notebook</a>'\n",
              "          + ' to learn more about interactive tables.';\n",
              "        element.innerHTML = '';\n",
              "        dataTable['output_type'] = 'display_data';\n",
              "        await google.colab.output.renderOutput(dataTable, element);\n",
              "        const docLink = document.createElement('div');\n",
              "        docLink.innerHTML = docLinkHtml;\n",
              "        element.appendChild(docLink);\n",
              "      }\n",
              "    </script>\n",
              "  </div>\n",
              "\n",
              "\n",
              "<div id=\"df-7d921b77-9486-4275-bdc0-847306ab274d\">\n",
              "  <button class=\"colab-df-quickchart\" onclick=\"quickchart('df-7d921b77-9486-4275-bdc0-847306ab274d')\"\n",
              "            title=\"Suggest charts\"\n",
              "            style=\"display:none;\">\n",
              "\n",
              "<svg xmlns=\"http://www.w3.org/2000/svg\" height=\"24px\"viewBox=\"0 0 24 24\"\n",
              "     width=\"24px\">\n",
              "    <g>\n",
              "        <path d=\"M19 3H5c-1.1 0-2 .9-2 2v14c0 1.1.9 2 2 2h14c1.1 0 2-.9 2-2V5c0-1.1-.9-2-2-2zM9 17H7v-7h2v7zm4 0h-2V7h2v10zm4 0h-2v-4h2v4z\"/>\n",
              "    </g>\n",
              "</svg>\n",
              "  </button>\n",
              "\n",
              "<style>\n",
              "  .colab-df-quickchart {\n",
              "      --bg-color: #E8F0FE;\n",
              "      --fill-color: #1967D2;\n",
              "      --hover-bg-color: #E2EBFA;\n",
              "      --hover-fill-color: #174EA6;\n",
              "      --disabled-fill-color: #AAA;\n",
              "      --disabled-bg-color: #DDD;\n",
              "  }\n",
              "\n",
              "  [theme=dark] .colab-df-quickchart {\n",
              "      --bg-color: #3B4455;\n",
              "      --fill-color: #D2E3FC;\n",
              "      --hover-bg-color: #434B5C;\n",
              "      --hover-fill-color: #FFFFFF;\n",
              "      --disabled-bg-color: #3B4455;\n",
              "      --disabled-fill-color: #666;\n",
              "  }\n",
              "\n",
              "  .colab-df-quickchart {\n",
              "    background-color: var(--bg-color);\n",
              "    border: none;\n",
              "    border-radius: 50%;\n",
              "    cursor: pointer;\n",
              "    display: none;\n",
              "    fill: var(--fill-color);\n",
              "    height: 32px;\n",
              "    padding: 0;\n",
              "    width: 32px;\n",
              "  }\n",
              "\n",
              "  .colab-df-quickchart:hover {\n",
              "    background-color: var(--hover-bg-color);\n",
              "    box-shadow: 0 1px 2px rgba(60, 64, 67, 0.3), 0 1px 3px 1px rgba(60, 64, 67, 0.15);\n",
              "    fill: var(--button-hover-fill-color);\n",
              "  }\n",
              "\n",
              "  .colab-df-quickchart-complete:disabled,\n",
              "  .colab-df-quickchart-complete:disabled:hover {\n",
              "    background-color: var(--disabled-bg-color);\n",
              "    fill: var(--disabled-fill-color);\n",
              "    box-shadow: none;\n",
              "  }\n",
              "\n",
              "  .colab-df-spinner {\n",
              "    border: 2px solid var(--fill-color);\n",
              "    border-color: transparent;\n",
              "    border-bottom-color: var(--fill-color);\n",
              "    animation:\n",
              "      spin 1s steps(1) infinite;\n",
              "  }\n",
              "\n",
              "  @keyframes spin {\n",
              "    0% {\n",
              "      border-color: transparent;\n",
              "      border-bottom-color: var(--fill-color);\n",
              "      border-left-color: var(--fill-color);\n",
              "    }\n",
              "    20% {\n",
              "      border-color: transparent;\n",
              "      border-left-color: var(--fill-color);\n",
              "      border-top-color: var(--fill-color);\n",
              "    }\n",
              "    30% {\n",
              "      border-color: transparent;\n",
              "      border-left-color: var(--fill-color);\n",
              "      border-top-color: var(--fill-color);\n",
              "      border-right-color: var(--fill-color);\n",
              "    }\n",
              "    40% {\n",
              "      border-color: transparent;\n",
              "      border-right-color: var(--fill-color);\n",
              "      border-top-color: var(--fill-color);\n",
              "    }\n",
              "    60% {\n",
              "      border-color: transparent;\n",
              "      border-right-color: var(--fill-color);\n",
              "    }\n",
              "    80% {\n",
              "      border-color: transparent;\n",
              "      border-right-color: var(--fill-color);\n",
              "      border-bottom-color: var(--fill-color);\n",
              "    }\n",
              "    90% {\n",
              "      border-color: transparent;\n",
              "      border-bottom-color: var(--fill-color);\n",
              "    }\n",
              "  }\n",
              "</style>\n",
              "\n",
              "  <script>\n",
              "    async function quickchart(key) {\n",
              "      const quickchartButtonEl =\n",
              "        document.querySelector('#' + key + ' button');\n",
              "      quickchartButtonEl.disabled = true;  // To prevent multiple clicks.\n",
              "      quickchartButtonEl.classList.add('colab-df-spinner');\n",
              "      try {\n",
              "        const charts = await google.colab.kernel.invokeFunction(\n",
              "            'suggestCharts', [key], {});\n",
              "      } catch (error) {\n",
              "        console.error('Error during call to suggestCharts:', error);\n",
              "      }\n",
              "      quickchartButtonEl.classList.remove('colab-df-spinner');\n",
              "      quickchartButtonEl.classList.add('colab-df-quickchart-complete');\n",
              "    }\n",
              "    (() => {\n",
              "      let quickchartButtonEl =\n",
              "        document.querySelector('#df-7d921b77-9486-4275-bdc0-847306ab274d button');\n",
              "      quickchartButtonEl.style.display =\n",
              "        google.colab.kernel.accessAllowed ? 'block' : 'none';\n",
              "    })();\n",
              "  </script>\n",
              "</div>\n",
              "\n",
              "    </div>\n",
              "  </div>\n"
            ]
          },
          "metadata": {},
          "execution_count": 8
        }
      ]
    },
    {
      "cell_type": "markdown",
      "source": [
        "**Observations:**\n",
        "\n",
        "* ..."
      ],
      "metadata": {
        "id": "DpWcljrKnV67"
      }
    },
    {
      "cell_type": "markdown",
      "source": [
        "### **Checking the shape of the dataset**"
      ],
      "metadata": {
        "id": "QkfN3fQjnlZ0"
      }
    },
    {
      "cell_type": "code",
      "source": [
        "df.shape"
      ],
      "metadata": {
        "id": "wwuVCgg5nqLm",
        "colab": {
          "base_uri": "https://localhost:8080/"
        },
        "outputId": "27fe8799-2096-4cdf-b940-7b1be5d17044"
      },
      "execution_count": null,
      "outputs": [
        {
          "output_type": "execute_result",
          "data": {
            "text/plain": [
              "(10178, 12)"
            ]
          },
          "metadata": {},
          "execution_count": 9
        }
      ]
    },
    {
      "cell_type": "markdown",
      "source": [
        "### **Checking the info()**"
      ],
      "metadata": {
        "id": "lwY_Pv2gnpZl"
      }
    },
    {
      "cell_type": "code",
      "source": [
        "df.info()"
      ],
      "metadata": {
        "id": "m9Z6A5PhoTPH",
        "colab": {
          "base_uri": "https://localhost:8080/"
        },
        "outputId": "f18546a6-6396-4c44-ac61-ad6bdbc300b2"
      },
      "execution_count": null,
      "outputs": [
        {
          "output_type": "stream",
          "name": "stdout",
          "text": [
            "<class 'pandas.core.frame.DataFrame'>\n",
            "RangeIndex: 10178 entries, 0 to 10177\n",
            "Data columns (total 12 columns):\n",
            " #   Column      Non-Null Count  Dtype  \n",
            "---  ------      --------------  -----  \n",
            " 0   names       10178 non-null  object \n",
            " 1   date_x      10178 non-null  object \n",
            " 2   score       10178 non-null  float64\n",
            " 3   genre       10093 non-null  object \n",
            " 4   overview    10178 non-null  object \n",
            " 5   crew        10122 non-null  object \n",
            " 6   orig_title  10178 non-null  object \n",
            " 7   status      10178 non-null  object \n",
            " 8   orig_lang   10178 non-null  object \n",
            " 9   budget_x    10178 non-null  float64\n",
            " 10  revenue     10178 non-null  float64\n",
            " 11  country     10178 non-null  object \n",
            "dtypes: float64(3), object(9)\n",
            "memory usage: 954.3+ KB\n"
          ]
        }
      ]
    },
    {
      "cell_type": "markdown",
      "source": [
        "**Observations:**\n",
        "\n",
        "* ..."
      ],
      "metadata": {
        "id": "_FeY4Da0oNCj"
      }
    },
    {
      "cell_type": "markdown",
      "source": [
        "### **Summary of the data**"
      ],
      "metadata": {
        "id": "F_oAbmRronqO"
      }
    },
    {
      "cell_type": "markdown",
      "source": [],
      "metadata": {
        "id": "KYsvsYnipD6f"
      }
    },
    {
      "cell_type": "code",
      "source": [
        "df.describe().T"
      ],
      "metadata": {
        "id": "6SvC9a6KpE0l"
      },
      "execution_count": null,
      "outputs": []
    },
    {
      "cell_type": "markdown",
      "source": [
        "**By default, the describe() function shows the summary of numeric variables only. Let's check the summary of non-numeric variables.**  "
      ],
      "metadata": {
        "id": "jsrYtbmEpAoE"
      }
    },
    {
      "cell_type": "code",
      "source": [
        "df.describe(exclude = 'number').T"
      ],
      "metadata": {
        "id": "6dc09CjypUuG"
      },
      "execution_count": null,
      "outputs": []
    },
    {
      "cell_type": "markdown",
      "source": [
        "**Observations:**\n",
        "\n",
        "* ..."
      ],
      "metadata": {
        "id": "BxctcSC4pgWn"
      }
    },
    {
      "cell_type": "markdown",
      "source": [
        ":**Let's check the count of each unique category in each of the categorical variables.**"
      ],
      "metadata": {
        "id": "FGQWvopApqlp"
      }
    },
    {
      "cell_type": "code",
      "source": [
        "# Making a list of all categorical variables\n",
        "\n",
        "\n",
        "# Printing number of count of each unique value in each column\n"
      ],
      "metadata": {
        "id": "M8dUqDSrpyWv"
      },
      "execution_count": null,
      "outputs": []
    },
    {
      "cell_type": "markdown",
      "source": [
        "### **Missing value treatment**"
      ],
      "metadata": {
        "id": "j1A9c95vqFun"
      }
    },
    {
      "cell_type": "code",
      "source": [
        "# Checking missing values\n",
        "df.isna().sum()"
      ],
      "metadata": {
        "id": "BA5OQU6hqESW"
      },
      "execution_count": null,
      "outputs": []
    },
    {
      "cell_type": "code",
      "source": [
        "df.isnull().sum()"
      ],
      "metadata": {
        "id": "0iiRpWgEqe_J"
      },
      "execution_count": null,
      "outputs": []
    },
    {
      "cell_type": "markdown",
      "source": [
        "## **Exploratory Data Analysis: Univariate**"
      ],
      "metadata": {
        "id": "XSzejDZKqmVe"
      }
    },
    {
      "cell_type": "markdown",
      "source": [
        "**Let us explore the numerical variables first.**"
      ],
      "metadata": {
        "id": "E9Pp5vSFuxO3"
      }
    },
    {
      "cell_type": "code",
      "source": [
        "def histogram_boxplot(feature, figsize=(15, 10), bins=\"auto\"): #Histogram\n",
        "    \"\"\" Boxplot and histogram combined\n",
        "    feature: 1-d feature array\n",
        "    figsize: size of fig (default (15, 10))\n",
        "    bins: number of bins (default \"auto\")\n",
        "    \"\"\"\n",
        "    f, (ax_box, ax_hist) = plt.subplots(\n",
        "        nrows=2,  # Number of rows of the subplot grid\n",
        "        sharex=True,  # The X-axis will be shared among all the subplots\n",
        "        gridspec_kw={\"height_ratios\": (.25, .75)},\n",
        "        figsize=figsize\n",
        "    )\n",
        "\n",
        "    # Creating the subplots\n",
        "    # Boxplot will be created and the mean value of the column will be indicated using some symbol\n",
        "    sns.boxplot(x=feature, ax=ax_box, showmeans=True, color='red')\n",
        "\n",
        "    # For histogram\n",
        "    sns.histplot(x=feature, kde=False, ax=ax_hist, bins=bins)\n",
        "    ax_hist.axvline(np.mean(feature), color='g', linestyle='--')      # Add mean to the histogram\n",
        "    ax_hist.axvline(np.median(feature), color='black', linestyle='-') # Add median to the histogram\n",
        "\n",
        "    plt.show()"
      ],
      "metadata": {
        "id": "3M9b9fKzrOXb"
      },
      "execution_count": null,
      "outputs": []
    },
    {
      "cell_type": "markdown",
      "source": [
        "### **Observations on [...]**"
      ],
      "metadata": {
        "id": "ONDYRDNErtOr"
      }
    },
    {
      "cell_type": "code",
      "source": [
        "histogram_boxplot(df.[])"
      ],
      "metadata": {
        "id": "X7FTYkY9sHe2"
      },
      "execution_count": null,
      "outputs": []
    },
    {
      "cell_type": "markdown",
      "source": [
        "**Observations:**\n",
        "* ..."
      ],
      "metadata": {
        "id": "pHVLugLCtZX-"
      }
    },
    {
      "cell_type": "markdown",
      "source": [
        "[Rinse and Repeat for different plots...]"
      ],
      "metadata": {
        "id": "jPwJ-_qTtiz3"
      }
    },
    {
      "cell_type": "markdown",
      "source": [
        "**Now, let's explore the categorical variables.**"
      ],
      "metadata": {
        "id": "nsmWEwRsttUw"
      }
    },
    {
      "cell_type": "code",
      "source": [
        "def bar_perc(data, z): #Bar Plot\n",
        "    total = len(data[z]) # Length of the column\n",
        "    plt.figure(figsize = (15, 5))\n",
        "\n",
        "    # Convert the column to a categorical data type\n",
        "    data[z] = data[z].astype('category')\n",
        "\n",
        "    ax = sns.countplot(x=z, data=data, palette='Paired', order=data[z].value_counts().index)\n",
        "\n",
        "    for p in ax.patches:\n",
        "        percentage = '{:.1f}%'.format(100 * p.get_height() / total) # Percentage of each class\n",
        "        x = p.get_x() + p.get_width() / 2 - 0.05                    # Width of the plot\n",
        "        y = p.get_y() + p.get_height()                              # Height of the plot\n",
        "        ax.annotate(percentage, (x, y), size = 12)                  # Annotate the percentage\n",
        "\n",
        "    plt.show()                                                      # Display the plot"
      ],
      "metadata": {
        "id": "5ZmXUoRHu7Pj"
      },
      "execution_count": null,
      "outputs": []
    },
    {
      "cell_type": "markdown",
      "source": [
        "### **Observations on [...]**"
      ],
      "metadata": {
        "id": "Rc4pmqL2vDbe"
      }
    },
    {
      "cell_type": "code",
      "source": [
        "bar_perc(df, ...)"
      ],
      "metadata": {
        "id": "1pIzxfqNvBvr"
      },
      "execution_count": null,
      "outputs": []
    },
    {
      "cell_type": "markdown",
      "source": [
        "**Observations:**\n",
        "* ..."
      ],
      "metadata": {
        "id": "tLea1POIu5iI"
      }
    },
    {
      "cell_type": "markdown",
      "source": [
        "[Rinse and Repeat for different plots...]"
      ],
      "metadata": {
        "id": "OsFiRbw6UIXo"
      }
    },
    {
      "cell_type": "markdown",
      "source": [
        "## **Exploratory Data Analysis: Multivariate**"
      ],
      "metadata": {
        "id": "gbsmGNwfwvUQ"
      }
    },
    {
      "cell_type": "markdown",
      "source": [
        "[Rinse and Repeat (same idea as the univariate) for different plots...]"
      ],
      "metadata": {
        "id": "_o0MBqJAU7bu"
      }
    },
    {
      "cell_type": "markdown",
      "source": [
        "## **Conclusion and Recommendations**"
      ],
      "metadata": {
        "id": "1-Y1DHvLVIQl"
      }
    },
    {
      "cell_type": "markdown",
      "source": [
        "-----------------------------------------------------------------\n",
        "### **Conclusion**\n",
        "-----------------------------------------------------------------\n",
        "\n",
        "We analyzed a dataset of nearly ...\n",
        "The data spanned ...\n",
        "The main feature of interest here is the ...\n",
        "From a business perspective, ...\n",
        "Thus, we determined the factors that affect ...\n",
        "\n",
        "We have been able to conclude that:\n",
        "\n",
        "1. ...\n",
        "\n",
        "--------------------------------------------------\n",
        "### **Recommendation to business**\n",
        "--------------------------------------------------\n",
        "\n",
        "1. ...\n",
        "\n",
        "---------------------------------\n",
        "###  **Further Analysis**\n",
        "---------------------------------\n",
        "1. Dig deeper to explore the variation of ..."
      ],
      "metadata": {
        "id": "RjiiQnDCVUX-"
      }
    }
  ]
}