{
  "nbformat": 4,
  "nbformat_minor": 0,
  "metadata": {
    "colab": {
      "provenance": [],
      "authorship_tag": "ABX9TyOML+OFJIqbtK/aiakPgdUZ",
      "include_colab_link": true
    },
    "kernelspec": {
      "name": "python3",
      "display_name": "Python 3"
    },
    "language_info": {
      "name": "python"
    }
  },
  "cells": [
    {
      "cell_type": "markdown",
      "metadata": {
        "id": "view-in-github",
        "colab_type": "text"
      },
      "source": [
        "<a href=\"https://colab.research.google.com/github/oigwe-frx/movie-database-analysis/blob/oi%2Fcontext-statement/Movie_Analysis.ipynb\" target=\"_parent\"><img src=\"https://colab.research.google.com/assets/colab-badge.svg\" alt=\"Open In Colab\"/></a>"
      ]
    },
    {
      "cell_type": "markdown",
      "source": [
        "\n",
        "-------------------------------------\n",
        "# **Project 1: Movie Data Analysis**\n",
        "-------------------------------------"
      ],
      "metadata": {
        "id": "R1MwlHEvjV23"
      }
    },
    {
      "cell_type": "markdown",
      "source": [
        "--------------------\n",
        "## **Context**\n",
        "--------------------\n",
        "\n",
        "In an era marked by the convergence of technology and entertainment, the film industry is a pillar of global cultural dissemination and economic vitality. Understanding the intricate factors influencing a movie's commercial success is paramount within this dynamic landscape. Leveraging data from the Internet Movie Database (IMDb), this project aims to delve into the multifaceted realm of box office hits, dissecting the variables that potentially shape their triumph or demise.\n",
        "\n",
        "The cinematic ecosystem is a tapestry woven with diverse elements, ranging from star power and production budget to genre and critical reception. Against this backdrop, the analysis endeavors to discern patterns and correlations within the data, unraveling the enigmatic interplay between various attributes and a movie's financial performance.\n",
        "\n",
        "As the digital era reshapes audience preferences and consumption patterns, traditional metrics of success undergo a metamorphosis. Thus, this investigation seeks to illuminate established paradigms and explore emerging trends and disruptions catalyzed by technological advancements and shifting audience dynamics.\n",
        "\n",
        "By scrutinizing the data with a meticulous eye and employing sophisticated analytical methodologies, this project endeavors to offer insights that transcend conventional wisdom, providing stakeholders within the film industry with actionable intelligence to navigate an ever-evolving landscape and maximize their chances of crafting cinematic endeavors that resonate with audiences and thrive at the box office.\n",
        "\n",
        "------------------\n",
        "## **Objective**\n",
        "------------------\n",
        "\n",
        "This data analysis and visualization project aims to investigate and identify critical attributes influencing the commercial success of movies. Leveraging data sourced from IMDb, the project aims to uncover patterns and correlations between various factors and a movie's box office performance. Through meticulous analysis and visualization techniques, the project seeks to provide actionable insights to stakeholders in the film industry, enabling them to make informed decisions to enhance the financial viability of their cinematic endeavors.\n",
        "\n",
        "-----------------------------\n",
        "## **Key Questions**\n",
        "-----------------------------\n",
        "\n",
        "- What is the source of the dataset for the visualization project, and how reliable and comprehensive is it?\n",
        "\n",
        "- How can data be effectively cleaned and prepared for visualization to ensure accuracy and consistency?\n",
        "\n",
        "- What visualization techniques are most suitable for representing different types of data and revealing insights?\n",
        "\n",
        "- How should the visualizations be designed to cater to the target audience and convey information efficiently?\n",
        "\n",
        "- Are there any specific trends or patterns in the data that can be uncovered through visualization?\n",
        "\n",
        "- What are the key metrics and performance indicators to track the effectiveness of the visualization?\n",
        "\n",
        "- How can interactive visualization tools enhance user engagement and exploration of the data?\n",
        "\n",
        "- How can the scalability and usability of the visualization be optimized to accommodate different devices and platforms?\n",
        "\n",
        "- Can the visualization techniques be applied to different datasets and domains beyond the current project?\n",
        "\n",
        "- How can user feedback and iterative design processes be integrated to continuously improve the effectiveness of the visualizations?\n",
        "\n",
        "------------------------------------\n",
        "## **Dataset Description**\n",
        "------------------------------------\n",
        "\n",
        "..."
      ],
      "metadata": {
        "id": "h9VVdwA6jo7o"
      }
    },
    {
      "cell_type": "markdown",
      "source": [
        "##  **Importing the necessary libraries and overview of the dataset**"
      ],
      "metadata": {
        "id": "nraSWmw4kcxM"
      }
    },
    {
      "cell_type": "code",
      "source": [
        "# Library to suppress warnings\n",
        "import warnings\n",
        "warnings.filterwarnings('ignore')"
      ],
      "metadata": {
        "id": "gve05kGXjSr9"
      },
      "execution_count": null,
      "outputs": []
    },
    {
      "cell_type": "code",
      "execution_count": null,
      "metadata": {
        "id": "79-GjKr6iuSE"
      },
      "outputs": [],
      "source": [
        "# Libraries to help with reading and manipulating data\n",
        "import pandas as pd\n",
        "import numpy as np\n",
        "import matplotlib.pyplot as plt\n",
        "\n",
        "# Libraries to help with data visualization\n",
        "import seaborn as sns\n",
        "import matplotlib.pyplot as plt\n",
        "%matplotlib inline\n",
        "\n",
        "# Library to extract datetime features\n",
        "import datetime as dt"
      ]
    },
    {
      "cell_type": "code",
      "source": [
        "from google.colab import drive\n",
        "drive.mount('/content/drive')"
      ],
      "metadata": {
        "id": "ZhWQ6tmQkn12"
      },
      "execution_count": null,
      "outputs": []
    },
    {
      "cell_type": "markdown",
      "source": [
        "### **Loading the dataset**"
      ],
      "metadata": {
        "id": "J711SsADkte4"
      }
    },
    {
      "cell_type": "code",
      "source": [
        "data = pd.read_csv('/content/drive/...')"
      ],
      "metadata": {
        "id": "9CuZI_IbkzUl"
      },
      "execution_count": null,
      "outputs": []
    },
    {
      "cell_type": "code",
      "source": [
        "# Copying data to another variable to avoid any changes to the original data\n",
        "df = data.copy()"
      ],
      "metadata": {
        "id": "J2TDhf7Wk5j4"
      },
      "execution_count": null,
      "outputs": []
    },
    {
      "cell_type": "markdown",
      "source": [
        "### **View the first 5 rows of the dataset**"
      ],
      "metadata": {
        "id": "qbYLSxBqlAH4"
      }
    },
    {
      "cell_type": "code",
      "source": [
        "# Looking at head (the first 5 observations)\n",
        "df.head()"
      ],
      "metadata": {
        "id": "3NxsFG85lK4s"
      },
      "execution_count": null,
      "outputs": []
    },
    {
      "cell_type": "markdown",
      "source": [
        "**Observations:**\n",
        "\n",
        "* ..."
      ],
      "metadata": {
        "id": "6PjOSYqblQar"
      }
    },
    {
      "cell_type": "markdown",
      "source": [
        "### **View the last 5 rows of the dataset**"
      ],
      "metadata": {
        "id": "ds2nsrY3lAba"
      }
    },
    {
      "cell_type": "code",
      "source": [
        "# Looking at tail (the last 5 observations)\n",
        "df.tail()"
      ],
      "metadata": {
        "id": "5mhI70iDlduq"
      },
      "execution_count": null,
      "outputs": []
    },
    {
      "cell_type": "markdown",
      "source": [
        "**Observations:**\n",
        "\n",
        "* ..."
      ],
      "metadata": {
        "id": "DpWcljrKnV67"
      }
    },
    {
      "cell_type": "markdown",
      "source": [
        "### **Checking the shape of the dataset**"
      ],
      "metadata": {
        "id": "QkfN3fQjnlZ0"
      }
    },
    {
      "cell_type": "code",
      "source": [
        "df.shape"
      ],
      "metadata": {
        "id": "wwuVCgg5nqLm"
      },
      "execution_count": null,
      "outputs": []
    },
    {
      "cell_type": "markdown",
      "source": [
        "### **Checking the info()**"
      ],
      "metadata": {
        "id": "lwY_Pv2gnpZl"
      }
    },
    {
      "cell_type": "code",
      "source": [
        "df.info()"
      ],
      "metadata": {
        "id": "m9Z6A5PhoTPH"
      },
      "execution_count": null,
      "outputs": []
    },
    {
      "cell_type": "markdown",
      "source": [
        "**Observations:**\n",
        "\n",
        "* ..."
      ],
      "metadata": {
        "id": "_FeY4Da0oNCj"
      }
    },
    {
      "cell_type": "markdown",
      "source": [
        "### **Summary of the data**"
      ],
      "metadata": {
        "id": "F_oAbmRronqO"
      }
    },
    {
      "cell_type": "markdown",
      "source": [],
      "metadata": {
        "id": "KYsvsYnipD6f"
      }
    },
    {
      "cell_type": "code",
      "source": [
        "df.describe().T"
      ],
      "metadata": {
        "id": "6SvC9a6KpE0l"
      },
      "execution_count": null,
      "outputs": []
    },
    {
      "cell_type": "markdown",
      "source": [
        "**By default, the describe() function shows the summary of numeric variables only. Let's check the summary of non-numeric variables.**  "
      ],
      "metadata": {
        "id": "jsrYtbmEpAoE"
      }
    },
    {
      "cell_type": "code",
      "source": [
        "df.describe(exclude = 'number').T"
      ],
      "metadata": {
        "id": "6dc09CjypUuG"
      },
      "execution_count": null,
      "outputs": []
    },
    {
      "cell_type": "markdown",
      "source": [
        "**Observations:**\n",
        "\n",
        "* ..."
      ],
      "metadata": {
        "id": "BxctcSC4pgWn"
      }
    },
    {
      "cell_type": "markdown",
      "source": [
        ":**Let's check the count of each unique category in each of the categorical variables.**"
      ],
      "metadata": {
        "id": "FGQWvopApqlp"
      }
    },
    {
      "cell_type": "code",
      "source": [
        "# Making a list of all categorical variables\n",
        "\n",
        "\n",
        "# Printing number of count of each unique value in each column\n"
      ],
      "metadata": {
        "id": "M8dUqDSrpyWv"
      },
      "execution_count": null,
      "outputs": []
    },
    {
      "cell_type": "markdown",
      "source": [
        "### **Missing value treatment**"
      ],
      "metadata": {
        "id": "j1A9c95vqFun"
      }
    },
    {
      "cell_type": "code",
      "source": [
        "# Checking missing values\n",
        "df.isna().sum()"
      ],
      "metadata": {
        "id": "BA5OQU6hqESW"
      },
      "execution_count": null,
      "outputs": []
    },
    {
      "cell_type": "code",
      "source": [
        "df.isnull().sum()"
      ],
      "metadata": {
        "id": "0iiRpWgEqe_J"
      },
      "execution_count": null,
      "outputs": []
    },
    {
      "cell_type": "markdown",
      "source": [
        "## **Exploratory Data Analysis: Univariate**"
      ],
      "metadata": {
        "id": "XSzejDZKqmVe"
      }
    },
    {
      "cell_type": "markdown",
      "source": [
        "**Let us explore the numerical variables first.**"
      ],
      "metadata": {
        "id": "E9Pp5vSFuxO3"
      }
    },
    {
      "cell_type": "code",
      "source": [
        "def histogram_boxplot(feature, figsize=(15, 10), bins=\"auto\"): #Histogram\n",
        "    \"\"\" Boxplot and histogram combined\n",
        "    feature: 1-d feature array\n",
        "    figsize: size of fig (default (15, 10))\n",
        "    bins: number of bins (default \"auto\")\n",
        "    \"\"\"\n",
        "    f, (ax_box, ax_hist) = plt.subplots(\n",
        "        nrows=2,  # Number of rows of the subplot grid\n",
        "        sharex=True,  # The X-axis will be shared among all the subplots\n",
        "        gridspec_kw={\"height_ratios\": (.25, .75)},\n",
        "        figsize=figsize\n",
        "    )\n",
        "\n",
        "    # Creating the subplots\n",
        "    # Boxplot will be created and the mean value of the column will be indicated using some symbol\n",
        "    sns.boxplot(x=feature, ax=ax_box, showmeans=True, color='red')\n",
        "\n",
        "    # For histogram\n",
        "    sns.histplot(x=feature, kde=False, ax=ax_hist, bins=bins)\n",
        "    ax_hist.axvline(np.mean(feature), color='g', linestyle='--')      # Add mean to the histogram\n",
        "    ax_hist.axvline(np.median(feature), color='black', linestyle='-') # Add median to the histogram\n",
        "\n",
        "    plt.show()"
      ],
      "metadata": {
        "id": "3M9b9fKzrOXb"
      },
      "execution_count": null,
      "outputs": []
    },
    {
      "cell_type": "markdown",
      "source": [
        "### **Observations on [...]**"
      ],
      "metadata": {
        "id": "ONDYRDNErtOr"
      }
    },
    {
      "cell_type": "code",
      "source": [
        "histogram_boxplot(df.[])"
      ],
      "metadata": {
        "id": "X7FTYkY9sHe2"
      },
      "execution_count": null,
      "outputs": []
    },
    {
      "cell_type": "markdown",
      "source": [
        "**Observations:**\n",
        "* ..."
      ],
      "metadata": {
        "id": "pHVLugLCtZX-"
      }
    },
    {
      "cell_type": "markdown",
      "source": [
        "[Rinse and Repeat for different plots...]"
      ],
      "metadata": {
        "id": "jPwJ-_qTtiz3"
      }
    },
    {
      "cell_type": "markdown",
      "source": [
        "**Now, let's explore the categorical variables.**"
      ],
      "metadata": {
        "id": "nsmWEwRsttUw"
      }
    },
    {
      "cell_type": "code",
      "source": [
        "def bar_perc(data, z): #Bar Plot\n",
        "    total = len(data[z]) # Length of the column\n",
        "    plt.figure(figsize = (15, 5))\n",
        "\n",
        "    # Convert the column to a categorical data type\n",
        "    data[z] = data[z].astype('category')\n",
        "\n",
        "    ax = sns.countplot(x=z, data=data, palette='Paired', order=data[z].value_counts().index)\n",
        "\n",
        "    for p in ax.patches:\n",
        "        percentage = '{:.1f}%'.format(100 * p.get_height() / total) # Percentage of each class\n",
        "        x = p.get_x() + p.get_width() / 2 - 0.05                    # Width of the plot\n",
        "        y = p.get_y() + p.get_height()                              # Height of the plot\n",
        "        ax.annotate(percentage, (x, y), size = 12)                  # Annotate the percentage\n",
        "\n",
        "    plt.show()                                                      # Display the plot"
      ],
      "metadata": {
        "id": "5ZmXUoRHu7Pj"
      },
      "execution_count": null,
      "outputs": []
    },
    {
      "cell_type": "markdown",
      "source": [
        "### **Observations on [...]**"
      ],
      "metadata": {
        "id": "Rc4pmqL2vDbe"
      }
    },
    {
      "cell_type": "code",
      "source": [
        "bar_perc(df, ...)"
      ],
      "metadata": {
        "id": "1pIzxfqNvBvr"
      },
      "execution_count": null,
      "outputs": []
    },
    {
      "cell_type": "markdown",
      "source": [
        "**Observations:**\n",
        "* ..."
      ],
      "metadata": {
        "id": "tLea1POIu5iI"
      }
    },
    {
      "cell_type": "markdown",
      "source": [
        "[Rinse and Repeat for different plots...]"
      ],
      "metadata": {
        "id": "OsFiRbw6UIXo"
      }
    },
    {
      "cell_type": "markdown",
      "source": [
        "## **Exploratory Data Analysis: Multivariate**"
      ],
      "metadata": {
        "id": "gbsmGNwfwvUQ"
      }
    },
    {
      "cell_type": "markdown",
      "source": [
        "[Rinse and Repeat (same idea as the univariate) for different plots...]"
      ],
      "metadata": {
        "id": "_o0MBqJAU7bu"
      }
    },
    {
      "cell_type": "markdown",
      "source": [
        "## **Conclusion and Recommendations**"
      ],
      "metadata": {
        "id": "1-Y1DHvLVIQl"
      }
    },
    {
      "cell_type": "markdown",
      "source": [
        "-----------------------------------------------------------------\n",
        "### **Conclusion**\n",
        "-----------------------------------------------------------------\n",
        "\n",
        "We analyzed a dataset of nearly ...\n",
        "The data spanned ...\n",
        "The main feature of interest here is the ...\n",
        "From a business perspective, ...\n",
        "Thus, we determined the factors that affect ...\n",
        "\n",
        "We have been able to conclude that:\n",
        "\n",
        "1. ...\n",
        "\n",
        "--------------------------------------------------\n",
        "### **Recommendation to business**\n",
        "--------------------------------------------------\n",
        "\n",
        "1. ...\n",
        "\n",
        "---------------------------------\n",
        "###  **Further Analysis**\n",
        "---------------------------------\n",
        "1. Dig deeper to explore the variation of ..."
      ],
      "metadata": {
        "id": "RjiiQnDCVUX-"
      }
    }
  ]
}